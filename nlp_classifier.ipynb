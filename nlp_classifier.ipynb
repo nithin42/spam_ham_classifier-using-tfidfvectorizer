{
  "nbformat": 4,
  "nbformat_minor": 0,
  "metadata": {
    "colab": {
      "name": "nlp classifier.ipynb",
      "provenance": [],
      "collapsed_sections": []
    },
    "kernelspec": {
      "name": "python3",
      "display_name": "Python 3"
    },
    "language_info": {
      "name": "python"
    },
    "accelerator": "GPU"
  },
  "cells": [
    {
      "cell_type": "code",
      "metadata": {
        "id": "nD57kb-pJ0r7"
      },
      "source": [
        "import pandas as pd\n",
        "import numpy as np\n"
      ],
      "execution_count": 1,
      "outputs": []
    },
    {
      "cell_type": "code",
      "metadata": {
        "colab": {
          "base_uri": "https://localhost:8080/"
        },
        "id": "6rCDyIWmKh-m",
        "outputId": "e2a642b8-4589-4f10-e029-2ac0c3ea5a68"
      },
      "source": [
        "df =  pd.read_csv('/content/drive/MyDrive/spam classification (nlp)/SMSSpamCollection', sep='\\t',names=[\"label\" ,\"messages\"] )\n",
        "df.shape"
      ],
      "execution_count": 2,
      "outputs": [
        {
          "output_type": "execute_result",
          "data": {
            "text/plain": [
              "(5572, 2)"
            ]
          },
          "metadata": {
            "tags": []
          },
          "execution_count": 2
        }
      ]
    },
    {
      "cell_type": "code",
      "metadata": {
        "colab": {
          "base_uri": "https://localhost:8080/",
          "height": 357
        },
        "id": "NJkAJiGNIFf6",
        "outputId": "8df95ec5-ea2a-4c50-9922-da44f85e77a5"
      },
      "source": [
        "df.head(10)"
      ],
      "execution_count": 3,
      "outputs": [
        {
          "output_type": "execute_result",
          "data": {
            "text/html": [
              "<div>\n",
              "<style scoped>\n",
              "    .dataframe tbody tr th:only-of-type {\n",
              "        vertical-align: middle;\n",
              "    }\n",
              "\n",
              "    .dataframe tbody tr th {\n",
              "        vertical-align: top;\n",
              "    }\n",
              "\n",
              "    .dataframe thead th {\n",
              "        text-align: right;\n",
              "    }\n",
              "</style>\n",
              "<table border=\"1\" class=\"dataframe\">\n",
              "  <thead>\n",
              "    <tr style=\"text-align: right;\">\n",
              "      <th></th>\n",
              "      <th>label</th>\n",
              "      <th>messages</th>\n",
              "    </tr>\n",
              "  </thead>\n",
              "  <tbody>\n",
              "    <tr>\n",
              "      <th>0</th>\n",
              "      <td>ham</td>\n",
              "      <td>Go until jurong point, crazy.. Available only ...</td>\n",
              "    </tr>\n",
              "    <tr>\n",
              "      <th>1</th>\n",
              "      <td>ham</td>\n",
              "      <td>Ok lar... Joking wif u oni...</td>\n",
              "    </tr>\n",
              "    <tr>\n",
              "      <th>2</th>\n",
              "      <td>spam</td>\n",
              "      <td>Free entry in 2 a wkly comp to win FA Cup fina...</td>\n",
              "    </tr>\n",
              "    <tr>\n",
              "      <th>3</th>\n",
              "      <td>ham</td>\n",
              "      <td>U dun say so early hor... U c already then say...</td>\n",
              "    </tr>\n",
              "    <tr>\n",
              "      <th>4</th>\n",
              "      <td>ham</td>\n",
              "      <td>Nah I don't think he goes to usf, he lives aro...</td>\n",
              "    </tr>\n",
              "    <tr>\n",
              "      <th>5</th>\n",
              "      <td>spam</td>\n",
              "      <td>FreeMsg Hey there darling it's been 3 week's n...</td>\n",
              "    </tr>\n",
              "    <tr>\n",
              "      <th>6</th>\n",
              "      <td>ham</td>\n",
              "      <td>Even my brother is not like to speak with me. ...</td>\n",
              "    </tr>\n",
              "    <tr>\n",
              "      <th>7</th>\n",
              "      <td>ham</td>\n",
              "      <td>As per your request 'Melle Melle (Oru Minnamin...</td>\n",
              "    </tr>\n",
              "    <tr>\n",
              "      <th>8</th>\n",
              "      <td>spam</td>\n",
              "      <td>WINNER!! As a valued network customer you have...</td>\n",
              "    </tr>\n",
              "    <tr>\n",
              "      <th>9</th>\n",
              "      <td>spam</td>\n",
              "      <td>Had your mobile 11 months or more? U R entitle...</td>\n",
              "    </tr>\n",
              "  </tbody>\n",
              "</table>\n",
              "</div>"
            ],
            "text/plain": [
              "  label                                           messages\n",
              "0   ham  Go until jurong point, crazy.. Available only ...\n",
              "1   ham                      Ok lar... Joking wif u oni...\n",
              "2  spam  Free entry in 2 a wkly comp to win FA Cup fina...\n",
              "3   ham  U dun say so early hor... U c already then say...\n",
              "4   ham  Nah I don't think he goes to usf, he lives aro...\n",
              "5  spam  FreeMsg Hey there darling it's been 3 week's n...\n",
              "6   ham  Even my brother is not like to speak with me. ...\n",
              "7   ham  As per your request 'Melle Melle (Oru Minnamin...\n",
              "8  spam  WINNER!! As a valued network customer you have...\n",
              "9  spam  Had your mobile 11 months or more? U R entitle..."
            ]
          },
          "metadata": {
            "tags": []
          },
          "execution_count": 3
        }
      ]
    },
    {
      "cell_type": "code",
      "metadata": {
        "colab": {
          "base_uri": "https://localhost:8080/",
          "height": 203
        },
        "id": "f3bMbjaJbAnA",
        "outputId": "362cd340-93b6-4e87-f886-b3bc023fe7dd"
      },
      "source": [
        "df['label']=df['label'].map({'ham':0 , 'spam':1})\n",
        "df.head()"
      ],
      "execution_count": 4,
      "outputs": [
        {
          "output_type": "execute_result",
          "data": {
            "text/html": [
              "<div>\n",
              "<style scoped>\n",
              "    .dataframe tbody tr th:only-of-type {\n",
              "        vertical-align: middle;\n",
              "    }\n",
              "\n",
              "    .dataframe tbody tr th {\n",
              "        vertical-align: top;\n",
              "    }\n",
              "\n",
              "    .dataframe thead th {\n",
              "        text-align: right;\n",
              "    }\n",
              "</style>\n",
              "<table border=\"1\" class=\"dataframe\">\n",
              "  <thead>\n",
              "    <tr style=\"text-align: right;\">\n",
              "      <th></th>\n",
              "      <th>label</th>\n",
              "      <th>messages</th>\n",
              "    </tr>\n",
              "  </thead>\n",
              "  <tbody>\n",
              "    <tr>\n",
              "      <th>0</th>\n",
              "      <td>0</td>\n",
              "      <td>Go until jurong point, crazy.. Available only ...</td>\n",
              "    </tr>\n",
              "    <tr>\n",
              "      <th>1</th>\n",
              "      <td>0</td>\n",
              "      <td>Ok lar... Joking wif u oni...</td>\n",
              "    </tr>\n",
              "    <tr>\n",
              "      <th>2</th>\n",
              "      <td>1</td>\n",
              "      <td>Free entry in 2 a wkly comp to win FA Cup fina...</td>\n",
              "    </tr>\n",
              "    <tr>\n",
              "      <th>3</th>\n",
              "      <td>0</td>\n",
              "      <td>U dun say so early hor... U c already then say...</td>\n",
              "    </tr>\n",
              "    <tr>\n",
              "      <th>4</th>\n",
              "      <td>0</td>\n",
              "      <td>Nah I don't think he goes to usf, he lives aro...</td>\n",
              "    </tr>\n",
              "  </tbody>\n",
              "</table>\n",
              "</div>"
            ],
            "text/plain": [
              "   label                                           messages\n",
              "0      0  Go until jurong point, crazy.. Available only ...\n",
              "1      0                      Ok lar... Joking wif u oni...\n",
              "2      1  Free entry in 2 a wkly comp to win FA Cup fina...\n",
              "3      0  U dun say so early hor... U c already then say...\n",
              "4      0  Nah I don't think he goes to usf, he lives aro..."
            ]
          },
          "metadata": {
            "tags": []
          },
          "execution_count": 4
        }
      ]
    },
    {
      "cell_type": "code",
      "metadata": {
        "colab": {
          "base_uri": "https://localhost:8080/"
        },
        "id": "719-B0UpbAa_",
        "outputId": "928c90e5-d6ed-4dad-ceda-8e8d32b45eec"
      },
      "source": [
        "x=df['messages']\n",
        "y=df['label']\n",
        "\n",
        "print(x.shape,y.shape)"
      ],
      "execution_count": 5,
      "outputs": [
        {
          "output_type": "stream",
          "text": [
            "(5572,) (5572,)\n"
          ],
          "name": "stdout"
        }
      ]
    },
    {
      "cell_type": "code",
      "metadata": {
        "colab": {
          "base_uri": "https://localhost:8080/",
          "height": 52
        },
        "id": "rqv6rDrqdnsI",
        "outputId": "a25c32ad-51f5-4c9a-c1b8-eb49a9598440"
      },
      "source": [
        "x[9]"
      ],
      "execution_count": 6,
      "outputs": [
        {
          "output_type": "execute_result",
          "data": {
            "application/vnd.google.colaboratory.intrinsic+json": {
              "type": "string"
            },
            "text/plain": [
              "'Had your mobile 11 months or more? U R entitled to Update to the latest colour mobiles with camera for Free! Call The Mobile Update Co FREE on 08002986030'"
            ]
          },
          "metadata": {
            "tags": []
          },
          "execution_count": 6
        }
      ]
    },
    {
      "cell_type": "code",
      "metadata": {
        "colab": {
          "base_uri": "https://localhost:8080/"
        },
        "id": "8uuhiXrrdpsb",
        "outputId": "c9deccd9-26e5-4b9b-fada-4d6eb453c577"
      },
      "source": [
        "y[4]"
      ],
      "execution_count": 7,
      "outputs": [
        {
          "output_type": "execute_result",
          "data": {
            "text/plain": [
              "0"
            ]
          },
          "metadata": {
            "tags": []
          },
          "execution_count": 7
        }
      ]
    },
    {
      "cell_type": "code",
      "metadata": {
        "id": "H_6w0cr-cKpv"
      },
      "source": [
        "from sklearn.model_selection import train_test_split\n",
        "X_train, X_test, y_train, y_test = train_test_split(x, y,test_size=0.2, random_state=5)"
      ],
      "execution_count": 8,
      "outputs": []
    },
    {
      "cell_type": "code",
      "metadata": {
        "colab": {
          "base_uri": "https://localhost:8080/"
        },
        "id": "LMkgmP1GnMsz",
        "outputId": "19cb158f-8f78-4473-dfef-cf3b0134d04d"
      },
      "source": [
        "X_train"
      ],
      "execution_count": 9,
      "outputs": [
        {
          "output_type": "execute_result",
          "data": {
            "text/plain": [
              "1658    S:-)if we have one good partnership going we w...\n",
              "1509    Sounds like something that someone testing me ...\n",
              "3266    44 7732584351, Do you want a New Nokia 3510i c...\n",
              "5199           Ugh my leg hurts. Musta overdid it on mon.\n",
              "3217    URGENT! We are trying to contact U. Todays dra...\n",
              "                              ...                        \n",
              "3046    Hello, yeah i've just got out of the bath and ...\n",
              "1725              There bold 2  &lt;#&gt; . Is that yours\n",
              "4079                  Gam gone after outstanding innings.\n",
              "2254                         Lol enjoy role playing much?\n",
              "2915    Sorry! U can not unsubscribe yet. THE MOB offe...\n",
              "Name: messages, Length: 4457, dtype: object"
            ]
          },
          "metadata": {
            "tags": []
          },
          "execution_count": 9
        }
      ]
    },
    {
      "cell_type": "code",
      "metadata": {
        "colab": {
          "base_uri": "https://localhost:8080/"
        },
        "id": "SpMCsW7JcYp_",
        "outputId": "c34de5f1-4fb2-4ce3-b972-7c699cca548e"
      },
      "source": [
        "from sklearn.feature_extraction.text import TfidfVectorizer\n",
        "vectorizer = TfidfVectorizer()\n",
        "train_vectors = vectorizer.fit_transform(X_train)\n",
        "test_vectors = vectorizer.transform(X_test)\n",
        "print(train_vectors.shape, test_vectors.shape)"
      ],
      "execution_count": 10,
      "outputs": [
        {
          "output_type": "stream",
          "text": [
            "(4457, 7710) (1115, 7710)\n"
          ],
          "name": "stdout"
        }
      ]
    },
    {
      "cell_type": "code",
      "metadata": {
        "colab": {
          "base_uri": "https://localhost:8080/"
        },
        "id": "1SMK-2DZnRrV",
        "outputId": "46506ccf-250f-408c-f5ee-618c0f222445"
      },
      "source": [
        "print(test_vectors)"
      ],
      "execution_count": 11,
      "outputs": [
        {
          "output_type": "stream",
          "text": [
            "  (0, 7680)\t0.11290607875887446\n",
            "  (0, 7134)\t0.27832543269906285\n",
            "  (0, 6907)\t0.07568693735062254\n",
            "  (0, 6424)\t0.2280876263066262\n",
            "  (0, 6113)\t0.2083669146069737\n",
            "  (0, 5387)\t0.22610305539280573\n",
            "  (0, 5263)\t0.22244488154240563\n",
            "  (0, 3585)\t0.23019254582827628\n",
            "  (0, 2933)\t0.11068377922909116\n",
            "  (0, 2721)\t0.2280876263066262\n",
            "  (0, 1887)\t0.2095439947403961\n",
            "  (0, 1830)\t0.1718009823499498\n",
            "  (0, 1618)\t0.11496475970850756\n",
            "  (0, 1429)\t0.22610305539280573\n",
            "  (0, 802)\t0.20612610239288295\n",
            "  (0, 641)\t0.27832543269906285\n",
            "  (0, 511)\t0.2883139091990243\n",
            "  (0, 359)\t0.25889527113507715\n",
            "  (0, 158)\t0.30239187613445623\n",
            "  (0, 29)\t0.30239187613445623\n",
            "  (1, 7512)\t0.35508399705211335\n",
            "  (1, 6871)\t0.3519944415864196\n",
            "  (1, 6779)\t0.1826438434791622\n",
            "  (1, 6774)\t0.4488435297515106\n",
            "  (1, 5787)\t0.34114768776106547\n",
            "  :\t:\n",
            "  (1113, 7510)\t0.15987799899977456\n",
            "  (1113, 7207)\t0.272998371816641\n",
            "  (1113, 7165)\t0.22730517658479432\n",
            "  (1113, 5389)\t0.2190976603086533\n",
            "  (1113, 4924)\t0.1798690711032787\n",
            "  (1113, 4837)\t0.21609833252841562\n",
            "  (1113, 4527)\t0.20195751925359964\n",
            "  (1113, 4115)\t0.2536899201390455\n",
            "  (1113, 3998)\t0.2924240851206885\n",
            "  (1113, 3335)\t0.20868162756356687\n",
            "  (1113, 3009)\t0.17123004931896946\n",
            "  (1113, 1625)\t0.2890404566098307\n",
            "  (1113, 1618)\t0.13997136140480013\n",
            "  (1113, 1429)\t0.2752839440656349\n",
            "  (1113, 1298)\t0.19993451175698546\n",
            "  (1113, 1178)\t0.2509616968378005\n",
            "  (1113, 357)\t0.2708300611940992\n",
            "  (1113, 295)\t0.2890404566098307\n",
            "  (1114, 7604)\t0.4185210968759954\n",
            "  (1114, 6796)\t0.2214961837210643\n",
            "  (1114, 4920)\t0.4305049378772927\n",
            "  (1114, 4013)\t0.31882930727887937\n",
            "  (1114, 3838)\t0.46773014807676394\n",
            "  (1114, 2364)\t0.3869542337809861\n",
            "  (1114, 1584)\t0.3468253636761808\n"
          ],
          "name": "stdout"
        }
      ]
    },
    {
      "cell_type": "code",
      "metadata": {
        "colab": {
          "base_uri": "https://localhost:8080/"
        },
        "id": "f04AANWhccVs",
        "outputId": "435cdbc2-bfdb-4f3e-8cd0-9ce83f28080c"
      },
      "source": [
        "from sklearn.naive_bayes import MultinomialNB\n",
        "from  sklearn.metrics  import accuracy_score,confusion_matrix,plot_confusion_matrix\n",
        "clf=MultinomialNB().fit(train_vectors,y_train)\n",
        "\n",
        "\n",
        "predicted = clf.predict(test_vectors)\n",
        "predicted\n",
        "print(accuracy_score(y_test,predicted))"
      ],
      "execution_count": 12,
      "outputs": [
        {
          "output_type": "stream",
          "text": [
            "0.95695067264574\n"
          ],
          "name": "stdout"
        }
      ]
    },
    {
      "cell_type": "code",
      "metadata": {
        "colab": {
          "base_uri": "https://localhost:8080/"
        },
        "id": "zY-M8v2LMCIt",
        "outputId": "069d1894-1d66-41a3-a22a-1ccd443932f3"
      },
      "source": [
        "confusion_matrix(y_test,predicted)"
      ],
      "execution_count": 13,
      "outputs": [
        {
          "output_type": "execute_result",
          "data": {
            "text/plain": [
              "array([[970,   0],\n",
              "       [ 48,  97]])"
            ]
          },
          "metadata": {
            "tags": []
          },
          "execution_count": 13
        }
      ]
    },
    {
      "cell_type": "code",
      "metadata": {
        "id": "NnCI5eukMYnf"
      },
      "source": [
        "##testing"
      ],
      "execution_count": 14,
      "outputs": []
    },
    {
      "cell_type": "code",
      "metadata": {
        "colab": {
          "base_uri": "https://localhost:8080/"
        },
        "id": "IGXhrCv3Z4aI",
        "outputId": "3b205081-7771-4f74-967b-b26fab0d5df4"
      },
      "source": [
        "def classify_message(text):\n",
        "    text = vectorizer.transform(text)\n",
        "    predicted = clf.predict(text)\n",
        "    if predicted==0:\n",
        "        print(\"Not Spam\")\n",
        "    else:\n",
        "        print(\"This is Spam\")\n",
        "        \n",
        "message1 = []\n",
        "n =input()\n",
        "message1.append(n)\n",
        "# message1=[\"Free entry in 2 a wkly comp to win FA Cup final tkts 21st May 2005. Text FA to 87121 to receive entry question(std txt rate)T&C's apply 08452810075over18's\"]\n",
        "classify_message(message1)\n",
        "# message2=[\"Free entry in part, you have won 400$\"]\n",
        "# print(classify_message(message2))\n"
      ],
      "execution_count": 15,
      "outputs": [
        {
          "output_type": "stream",
          "text": [
            "Free entry in 2 a wkly comp to win FA Cup final tkts 21st May 2005. Text FA to 87121 to receive entry question(std txt rate)T&C's apply 08452810075over18's\n",
            "This is Spam\n"
          ],
          "name": "stdout"
        }
      ]
    }
  ]
}